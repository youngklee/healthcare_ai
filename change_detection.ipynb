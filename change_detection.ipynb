{
 "cells": [
  {
   "cell_type": "code",
   "execution_count": 2,
   "id": "champion-bloom",
   "metadata": {},
   "outputs": [],
   "source": [
    "from pathlib import Path\n",
    "import scispacy\n",
    "import spacy"
   ]
  },
  {
   "cell_type": "code",
   "execution_count": 3,
   "id": "seventh-coordinator",
   "metadata": {},
   "outputs": [],
   "source": [
    "data_dir = '/home/ylee/Downloads/events-COS-corpus/release_Jan_1_2015/data'"
   ]
  },
  {
   "cell_type": "code",
   "execution_count": 4,
   "id": "brazilian-import",
   "metadata": {},
   "outputs": [],
   "source": [
    "filename = 'snippet1_100.txt'\n",
    "path = Path(data_dir, filename)\n",
    "with open(path, 'r') as f:\n",
    "    corpus = f.read()"
   ]
  },
  {
   "cell_type": "code",
   "execution_count": 5,
   "id": "prerequisite-mitchell",
   "metadata": {},
   "outputs": [
    {
     "data": {
      "text/plain": [
       "\"Slight increase in previously noted edema and patchy atelectasis. No new focal abnormalities.\\nPersistent left lower lobe and right basilar atelectasis.  Low lung volumes.\\nLow lung volumes. Stable perihilar and bibasilar opacities are likely an artifact of low lung volumes, though mild pulmonary edema cannot be excluded.\\nThe patchy right hilar and left upper lobe opacities are unchanged, likely edema versus infection.\\nThere is no interval change in the low right lung volume and increased right pulmonary opacities suggesting pleural effusion layering posterior to the right lung.\\nCollapse/consolidation within knee right upper lobe.\\nOpacities: Mild, patchy, bibasilar and unchanged\\nThere is continued obscuration of the left lung base, likely due to left lower lobe atelectasis and pleural effusion.\\nLeft pleural effusion and bilateral lung opacities, likely edema, are unchanged.\\nNo change in mild edema and patchy atelectasis/pneumonia.\\nNo change in left pleural effusion or thickening and left lower lobe atelectasis.\\nIncreased opacity at the lung bases representing atelectasis and/or infiltrates greater on the left.\\nPersistent diffuse patchy lung opacities.\\nNo new focal abnormalities.\\nNo new focal abnormalities..\\nThere is hazy opacities in the left lung with left lower lobe consolidation versus atelectasis.  Minimal patchy atelectasis in the right lung is seen, mildly improved since the prior study.\\nNo change in diffuse lung opacities consistent with diffuse lung injury.\\nLungs: Persistent bibasilar atelectasis\\nThe chest is otherwise unchanged, again demonstrating lower lobe atelectasis and right pleural effusion .\\nNo substantial interval change diffuse lung injury pattern with superimposed right upper lobe collapse and likely right pleural fluid collection.\\nBilateral patchy pulmonary opacities may be secondary to pneumonia or edema.\\nAgain seen is bibasilar atelectasis versus pneumonia or aspiration.\\nThe overall appearance has declined again as the hemidiaphragms are no longer well visualized and the appearance of bilateral pleural effusions and bibasilar atelectasis has returned. This may be in part due to positioning with layering of effusions as the patient is now at 30 degrees. Right upper and midlung and left lower lung opacities persist. There is likely a component of pulmonary edema.\\nThere is bilateral lower lung zone atelectasis.\\nAgain noted are lower lobe opacities likely on the basis of atelectasis and/or infection.\\nAs before, there are low lung volumes and bilateral perihilar opacities. There is improved aeration of the left lower lobe when compared with yesterday's study.\\nPersistent moderate edema and patchy atelectasis/pneumonia.\\nBibasilar opacities most consistent with atelectasis persist, although aspiration/infection is also possible consideration in the appropriate clinical setting.\\nLungs: Patchy bilateral lung opacities are have worsened compared to 0/00/00 and may reflect atelectasis or pneumonia.\\nConfluent opacity in both lower lobes has worsened.\\nIncreased bibasilar atelectasis and persistent small left pleural effusion.\\nLungs: Bilateral pulmonary opacities persist, unchanged from prior study..\\nRedemonstrated are bilateral lower lobe opacities for which infection is possible.\\nThe lungs show patchy bilateral atelectasis, without substantial interval change. No new focal abnormalities.\\nBilateral patchy pulmonary opacities persist. No new focal abnormalities.\\nNo change in bilateral lower lung consolidations, with atelectasis or pneumonia.\\nThere is persistent right upper lobe airspace disease as well as right pleural effusion.\\nAs before, lung volumes are low. There is bilateral basilar consolidation or atelectasis and likely bilateral pleural effusions.\\nPersistent left lower lobe consolidation and improved right lower lobe consolidation, likely atelectasis or pneumonia.\\nLungs: Bibasilar atelectasis, effusions or consolidation is unchanged\\nThis is slightly worse on the right when compared to prior.\\nSimilar appearance of diffuse lung opacities representing edema versus infection.  Right basilar opacities persist likely representing pneumonia.\\nThere is persistent obscuration of left greater than right costophrenic angles, likely due to pleural effusion and atelectasis.\\nLungs: Left basilar opacity persists. .\\nThere are bilateral perihilar opacities that are unchanged.\\nThe chest is otherwise unchanged, again demonstrating bilateral lower lobe atelectasis and pleural effusions.\\nPersistently low lung volumes with unchanged scattered atelectasis.\\nBibasal atelectasis.\\nRight mid and lower lung airspace disease and pleural effusion persist.\\nPersistent bilateral pleural effusions with dependent atelectasis.\\nNo new focal abnormalities.\\nPersistent bilateral basilar atelectasis. No new focal abnormalities..\\nNo change in bilateral pulmonary opacities, likely atelectasis with pleural effusions.\\nLungs: There is a large right pulmonary laceration in the right upper lobe.    Right lung opacity unchanged.\\nStable left lobe atelectasis is present.\\nDiffuse lung edema or injury has worsened, now totally involving both lower lobes and major portions of the upper lobes.\\nNo change in bibasilar opacities and pulmonary edema.\\nBibasilar atelectasis persists.\\nThe chest is otherwise unchanged, again demonstrating consolidating right upper lobe atelectasis or pneumonia, diffuse lung edema or injury, and lower lobe atelectasis.\\nBilateral parenchymal opacities related to pneumonia/edema/or aspiration are unchanged.\\nSuperimposed diffuse lung disease likely represents edema.\\nPerihilar opacities could represent pulmonary edema or pneumonia.\\nPersistent diffuse lung disease, likely pneumonia or alveolar damage. Increased bibasilar atelectasis.\\nPersistent left lower lobe consolidation and improved right basilar consolidation, likely atelectasis.\\nThere is persistent bibasal atelectasis, without definite pleural effusions.\\nDiffuse lung injury pattern persists with worsening in the upper lobes bilaterally.\\nPersistent right upper lobe opacity which may represent pneumonia, atelectasis or infiltrate. Post obstructive process due to an endobronchial lesion cannot be excluded.\\nThere has been interval increase in left right opacity with obscuration of the right hemidiaphragm.\\nDecreased lung volumes and increased basilar atelectasis.\\nPersistent bibasilar atelectasis.\\nBilateral lower lobe atelectasis has worsened.\\nThe lungs show patchy bilateral, right greater than left, atelectasis/pneumonia/contusion, without substantial interval change.\\nLungs: Left basilar opacity which may represent atelectasis, pneumonia, or aspiration.\\nThere is consolidation within the right lower lobe.\\nLungs: There is stable left lower lobe opacity with volume loss representing partial left lower lobe collapse.\\nPersistent left lobe atelectasis.\\nLungs: Bilateral unchanged lower lobe opacities consistent with basilar atelectasis. Increased lung volumes.  Left mid lung atelectasis is increased.\\nLungs: The lung volumes are low and unchanged.  There are bibasilar opacities that are slightly worsened.\\nBilateral pleural effusions and bi-basilar atelectasis, as before.\\nRadiographically progression could be compatible with diagnosis of ARDS.\\nRight lower lobe atelectasis has diminished.\\nNo change in mild diffuse lung opacities consistent with pulmonary edema/pneumonia and lower lobe atelectasis. No new focal abnormalities.\\nThe lungs show patchy bilateral atelectasis/pneumonia, left greater than right, without substantial interval change.\\nWorsening edema and patchy atelectasis/pneumonia.\\nImproved basal atelectasis.\\nAtelectasis of the right middle and lower lobes has significantly improved. There is residual bibasilar atelectasis and bilateral pleural effusions, which appear slightly improved on the left side.\\nRight upper lobe atelectasis has decreased.  Bibasilar opacities are stable, likely atelectasis.\\nInterval increase in bilateral interstitial markings.\\nBibasilar opacities persist, right greater than left, concerning for pulmonary edema.\\nPersistently low lung volumes with basilar atelectasis.\\nThe lungs show patchy and diffuse lung consolidation without substantial interval change, either pneumonia or alveolar damage.\\nImproved diffuse lung disease is present, representing alveolar damage or infection.\\nStable bibasilar opacities are likely due to atelectasis.\\nNo change in diffuse lung opacities consistent with pulmonary edema.\\nDiffuse bilateral lung disease, worse at the left base persists.\\nPatchy opacifications remain over the medial right and left lower lobes.\\nMild improvement in diffuse lung opacities consistent with pulmonary edema/pneumonia.\\nLung volumes are low, with bi-basilar linear opacities, most consistent with atelectasis, versus consolidation.\\nSlight worsening of consolidation at left base and no change in right basal consolidation, likely atelectasis or less likely aspiration.\\nIncreased right lower lobe opacity is present, suspicious for infection.\\n\""
      ]
     },
     "execution_count": 5,
     "metadata": {},
     "output_type": "execute_result"
    }
   ],
   "source": [
    "corpus"
   ]
  },
  {
   "cell_type": "code",
   "execution_count": 5,
   "id": "verbal-grade",
   "metadata": {},
   "outputs": [],
   "source": [
    "text = corpus[94:170]"
   ]
  },
  {
   "cell_type": "code",
   "execution_count": 6,
   "id": "behavioral-seller",
   "metadata": {},
   "outputs": [
    {
     "data": {
      "text/plain": [
       "'Persistent left lower lobe and right basilar atelectasis.  Low lung volumes.'"
      ]
     },
     "execution_count": 6,
     "metadata": {},
     "output_type": "execute_result"
    }
   ],
   "source": [
    "text"
   ]
  },
  {
   "cell_type": "code",
   "execution_count": 7,
   "id": "junior-secondary",
   "metadata": {},
   "outputs": [],
   "source": [
    "nlp = spacy.load(\"en_core_sci_scibert\")"
   ]
  },
  {
   "cell_type": "code",
   "execution_count": 23,
   "id": "white-basis",
   "metadata": {},
   "outputs": [],
   "source": [
    "nlp = spacy.load(\"en_ner_bionlp13cg_md\")"
   ]
  },
  {
   "cell_type": "code",
   "execution_count": 15,
   "id": "unlimited-excellence",
   "metadata": {},
   "outputs": [],
   "source": [
    "nlp = spacy.load(\"en_ner_bc5cdr_md\")"
   ]
  },
  {
   "cell_type": "code",
   "execution_count": 10,
   "id": "sorted-compatibility",
   "metadata": {},
   "outputs": [],
   "source": [
    "doc = nlp(text.lower())"
   ]
  },
  {
   "cell_type": "code",
   "execution_count": 11,
   "id": "revised-extreme",
   "metadata": {},
   "outputs": [
    {
     "name": "stdout",
     "output_type": "stream",
     "text": [
      "persistent ENTITY\n",
      "left lower lobe ENTITY\n",
      "right basilar atelectasis ENTITY\n",
      "low ENTITY\n",
      "lung ENTITY\n"
     ]
    }
   ],
   "source": [
    "for entity in doc.ents:\n",
    "    print(entity.text, entity.label_)"
   ]
  },
  {
   "cell_type": "code",
   "execution_count": 12,
   "id": "accurate-chemistry",
   "metadata": {},
   "outputs": [],
   "source": [
    "ner = nlp.get_pipe('ner')"
   ]
  },
  {
   "cell_type": "code",
   "execution_count": 13,
   "id": "finished-florence",
   "metadata": {},
   "outputs": [
    {
     "data": {
      "text/plain": [
       "<spacy.pipeline.ner.EntityRecognizer at 0x7f6342d6ead8>"
      ]
     },
     "execution_count": 13,
     "metadata": {},
     "output_type": "execute_result"
    }
   ],
   "source": [
    "ner"
   ]
  }
 ],
 "metadata": {
  "kernelspec": {
   "display_name": "Python 3",
   "language": "python",
   "name": "python3"
  },
  "language_info": {
   "codemirror_mode": {
    "name": "ipython",
    "version": 3
   },
   "file_extension": ".py",
   "mimetype": "text/x-python",
   "name": "python",
   "nbconvert_exporter": "python",
   "pygments_lexer": "ipython3",
   "version": "3.6.9"
  }
 },
 "nbformat": 4,
 "nbformat_minor": 5
}
